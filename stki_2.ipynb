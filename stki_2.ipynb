{
  "nbformat": 4,
  "nbformat_minor": 0,
  "metadata": {
    "colab": {
      "provenance": [],
      "authorship_tag": "ABX9TyNnU+EZuWuaiuuqHnNxaBWE",
      "include_colab_link": true
    },
    "kernelspec": {
      "name": "python3",
      "display_name": "Python 3"
    },
    "language_info": {
      "name": "python"
    }
  },
  "cells": [
    {
      "cell_type": "markdown",
      "metadata": {
        "id": "view-in-github",
        "colab_type": "text"
      },
      "source": [
        "<a href=\"https://colab.research.google.com/github/fatuunreal/stki-2/blob/main/stki_2.ipynb\" target=\"_parent\"><img src=\"https://colab.research.google.com/assets/colab-badge.svg\" alt=\"Open In Colab\"/></a>"
      ]
    },
    {
      "cell_type": "code",
      "source": [
        "import pandas as pd\n",
        "from sklearn.feature_extraction.text import TfidfVectorizer\n",
        "from sklearn.metrics.pairwise import cosine_similarity"
      ],
      "metadata": {
        "id": "92ZVjfdEmKdV"
      },
      "execution_count": 49,
      "outputs": []
    },
    {
      "cell_type": "code",
      "source": [
        "# Memuat data dari file Excel\n",
        "file_path = 'SimilarityTest.xlsx'  # Ganti dengan jalur file yang sebenarnya\n",
        "data = pd.read_excel(file_path)"
      ],
      "metadata": {
        "id": "thVE6JrNx8ER"
      },
      "execution_count": 38,
      "outputs": []
    },
    {
      "cell_type": "code",
      "source": [
        "# Memuat data dari file Excel\n",
        "file_path = 'SimilarityTest.xlsx'  # Ganti dengan jalur file yang sebenarnya\n",
        "data = pd.read_excel(file_path)\n",
        "\n",
        "# Asumsikan bahwa data teks relevan ada di kolom tertentu (misalnya, 'Unnamed: 1')\n",
        "# Ganti 'Unnamed: 1' dengan nama kolom yang sebenarnya yang berisi data teks\n",
        "dokumen = data['Unnamed: 1'].dropna()  # Menghapus nilai kosong (NaN)\n",
        "\n",
        "# Convert all elements in 'dokumen' to strings before applying TF-IDF\n",
        "dokumen = dokumen.astype(str) # This line converts all elements in the 'dokumen' Series to strings."
      ],
      "metadata": {
        "id": "hPRnOnGL1wDA"
      },
      "execution_count": 39,
      "outputs": []
    },
    {
      "cell_type": "code",
      "source": [
        "# Langkah 1: Membuat TF-IDF vectorizer\n",
        "tfidf_vectorizer = TfidfVectorizer(stop_words='english')  # Menggunakan stopword bahasa Inggris"
      ],
      "metadata": {
        "id": "BbBOArOL7MmP"
      },
      "execution_count": 40,
      "outputs": []
    },
    {
      "cell_type": "code",
      "source": [
        "# Langkah 2: Melakukan fit dan transformasi teks menjadi matriks TF-IDF\n",
        "tfidf_matrix = tfidf_vectorizer.fit_transform(dokumen)"
      ],
      "metadata": {
        "id": "hpPaT2NC7PaH"
      },
      "execution_count": 41,
      "outputs": []
    },
    {
      "cell_type": "code",
      "source": [
        "# Langkah 3: Menghitung matriks kemiripan cosine\n",
        "cosine_sim = cosine_similarity(tfidf_matrix, tfidf_matrix)"
      ],
      "metadata": {
        "id": "5K_49za37BpC"
      },
      "execution_count": 42,
      "outputs": []
    },
    {
      "cell_type": "code",
      "source": [
        "# Langkah 4: Menampilkan matriks kemiripan cosine\n",
        "cosine_sim_df = pd.DataFrame(cosine_sim, index=dokumen.index, columns=dokumen.index)"
      ],
      "metadata": {
        "id": "hGAuR7kB7E0c"
      },
      "execution_count": 43,
      "outputs": []
    },
    {
      "cell_type": "code",
      "source": [
        "# Menampilkan beberapa baris pertama dari matriks kemiripan cosine\n",
        "print(cosine_sim_df.head())"
      ],
      "metadata": {
        "colab": {
          "base_uri": "https://localhost:8080/"
        },
        "id": "O7IZ2nzD7Hhr",
        "outputId": "268c2019-d83f-4ac4-a1ab-1107c3da22d6"
      },
      "execution_count": 44,
      "outputs": [
        {
          "output_type": "stream",
          "name": "stdout",
          "text": [
            "    4    5    6    7    8    9    10   11   12   13  ...   18   19   20   21  \\\n",
            "4  0.0  0.0  0.0  0.0  0.0  0.0  0.0  0.0  0.0  0.0  ...  0.0  0.0  0.0  0.0   \n",
            "5  0.0  0.0  0.0  0.0  0.0  0.0  0.0  0.0  0.0  0.0  ...  0.0  0.0  0.0  0.0   \n",
            "6  0.0  0.0  0.0  0.0  0.0  0.0  0.0  0.0  0.0  0.0  ...  0.0  0.0  0.0  0.0   \n",
            "7  0.0  0.0  0.0  0.0  0.0  0.0  0.0  0.0  0.0  0.0  ...  0.0  0.0  0.0  0.0   \n",
            "8  0.0  0.0  0.0  0.0  0.0  0.0  0.0  0.0  0.0  0.0  ...  0.0  0.0  0.0  0.0   \n",
            "\n",
            "    22   23   24   25   26   27  \n",
            "4  0.0  0.0  0.0  0.0  0.0  0.0  \n",
            "5  0.0  0.0  0.0  0.0  0.0  0.0  \n",
            "6  0.0  0.0  0.0  0.0  0.0  0.0  \n",
            "7  0.0  0.0  0.0  0.0  0.0  0.0  \n",
            "8  0.0  0.0  0.0  0.0  0.0  0.0  \n",
            "\n",
            "[5 rows x 22 columns]\n"
          ]
        }
      ]
    },
    {
      "cell_type": "code",
      "source": [
        "# Misalnya, untuk dokumen tertentu, tampilkan 5 dokumen paling mirip\n",
        "def rekomendasi_dokumen(index_dokumen, cosine_sim, dokumen, top_n=5):\n",
        "    # Mengurutkan dokumen berdasarkan kesamaan\n",
        "    similar_indices = cosine_sim[index_dokumen].argsort()[-top_n-1:-1][::-1]\n",
        "    print(f\"Rekomendasi dokumen untuk dokumen {index_dokumen}:\")\n",
        "    for i in similar_indices:\n",
        "        print(f\"- Dokumen {i} dengan skor kemiripan {cosine_sim[index_dokumen][i]}\")\n",
        "\n",
        "# Contoh penggunaan: Rekomendasi untuk dokumen pertama\n",
        "rekomendasi_dokumen(0, cosine_sim, dokumen)"
      ],
      "metadata": {
        "colab": {
          "base_uri": "https://localhost:8080/"
        },
        "id": "4Q7SQN467lR4",
        "outputId": "8a5e0dca-8f82-4e5c-acfa-8bb6bd2aed51"
      },
      "execution_count": 46,
      "outputs": [
        {
          "output_type": "stream",
          "name": "stdout",
          "text": [
            "Rekomendasi dokumen untuk dokumen 0:\n",
            "- Dokumen 20 dengan skor kemiripan 0.0\n",
            "- Dokumen 1 dengan skor kemiripan 0.0\n",
            "- Dokumen 2 dengan skor kemiripan 0.0\n",
            "- Dokumen 3 dengan skor kemiripan 0.0\n",
            "- Dokumen 4 dengan skor kemiripan 0.0\n"
          ]
        }
      ]
    },
    {
      "cell_type": "code",
      "source": [
        "from sklearn.feature_extraction.text import ENGLISH_STOP_WORDS as stopwords\n",
        "# Bisa mengganti dengan stopword dalam bahasa Indonesia"
      ],
      "metadata": {
        "id": "44qppxo67p11"
      },
      "execution_count": 33,
      "outputs": []
    },
    {
      "cell_type": "code",
      "source": [
        "# Contoh filter kategori\n",
        "def rekomendasi_dengan_kategori(index_dokumen, cosine_sim, dokumen, kategori, top_n=5):\n",
        "    similar_indices = cosine_sim[index_dokumen].argsort()[-top_n-1:-1][::-1]\n",
        "    for i in similar_indices:\n",
        "        if dokumen['Kategori'][i] == kategori:\n",
        "            print(f\"- Dokumen {i} dalam kategori {kategori} dengan skor kemiripan {cosine_sim[index_dokumen][i]}\")\n"
      ],
      "metadata": {
        "id": "ogOiBgsb7s-6"
      },
      "execution_count": 34,
      "outputs": []
    },
    {
      "cell_type": "code",
      "source": [
        "# Contoh pencarian dokumen berdasarkan input teks\n",
        "def pencarian_dokumen(teks_kueri, tfidf_vectorizer, dokumen, cosine_sim):\n",
        "    # Transformasi teks kueri menjadi vektor TF-IDF\n",
        "    kueri_vector = tfidf_vectorizer.transform([teks_kueri])\n",
        "\n",
        "    # Hitung kesamaan kueri dengan dokumen\n",
        "    sim_kueri = cosine_similarity(kueri_vector, tfidf_matrix).flatten()\n",
        "\n",
        "    # Urutkan berdasarkan skor kemiripan\n",
        "    similar_indices = sim_kueri.argsort()[-5:][::-1]\n",
        "\n",
        "    # Tampilkan dokumen paling mirip\n",
        "    for i in similar_indices:\n",
        "        print(f\"- Dokumen {i} dengan skor kemiripan {sim_kueri[i]}\")"
      ],
      "metadata": {
        "id": "sCvNuUlS7v-M"
      },
      "execution_count": 47,
      "outputs": []
    },
    {
      "cell_type": "code",
      "source": [
        "import seaborn as sns\n",
        "import matplotlib.pyplot as plt\n",
        "\n",
        "# Membuat heatmap dari matriks kesamaan\n",
        "plt.figure(figsize=(10, 8))\n",
        "sns.heatmap(cosine_sim, cmap='coolwarm')\n",
        "plt.title('Matriks Kesamaan Cosine')\n",
        "plt.show()"
      ],
      "metadata": {
        "colab": {
          "base_uri": "https://localhost:8080/",
          "height": 666
        },
        "id": "3u1Yo8nA7yIM",
        "outputId": "041d9045-56be-49a3-a306-3cdbf997adc7"
      },
      "execution_count": 48,
      "outputs": [
        {
          "output_type": "display_data",
          "data": {
            "text/plain": [
              "<Figure size 1000x800 with 2 Axes>"
            ],
            "image/png": "[encoded data removed]"
          },
          "metadata": {}
        }
      ]
    }
  ]
}